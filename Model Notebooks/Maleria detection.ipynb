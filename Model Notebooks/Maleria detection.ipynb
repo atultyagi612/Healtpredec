{
 "cells": [
  {
   "cell_type": "code",
   "execution_count": 1,
   "metadata": {},
   "outputs": [],
   "source": [
    "from keras.layers import Input, Lambda, Dense, Flatten\n",
    "from keras.models import Model\n",
    "from keras.applications.vgg16 import VGG16\n",
    "from keras.applications.vgg16 import preprocess_input\n",
    "from keras.preprocessing import image\n",
    "from keras.preprocessing.image import ImageDataGenerator\n",
    "from keras.models import Sequential\n",
    "import numpy as np\n",
    "from glob import glob\n",
    "import matplotlib.pyplot as plt"
   ]
  },
  {
   "cell_type": "code",
   "execution_count": 2,
   "metadata": {},
   "outputs": [],
   "source": [
    "IMAGE_SIZE = [224, 224]\n",
    "\n",
    "train_path = 'maleria_cell_images/train'\n",
    "valid_path = 'maleria_cell_images/test'\n"
   ]
  },
  {
   "cell_type": "code",
   "execution_count": 3,
   "metadata": {},
   "outputs": [],
   "source": [
    "vgg = VGG16(input_shape=IMAGE_SIZE + [3], weights='imagenet', include_top=False)"
   ]
  },
  {
   "cell_type": "code",
   "execution_count": 4,
   "metadata": {},
   "outputs": [],
   "source": [
    "for layer in vgg.layers:\n",
    "    layer.trainable = False"
   ]
  },
  {
   "cell_type": "code",
   "execution_count": 5,
   "metadata": {},
   "outputs": [],
   "source": [
    "folders = glob('maleria_cell_images/train/*')"
   ]
  },
  {
   "cell_type": "code",
   "execution_count": 6,
   "metadata": {},
   "outputs": [],
   "source": [
    "x = Flatten()(vgg.output)"
   ]
  },
  {
   "cell_type": "code",
   "execution_count": 7,
   "metadata": {},
   "outputs": [],
   "source": [
    "prediction = Dense(len(folders), activation='softmax')(x)\n",
    "\n",
    "model = Model(inputs=vgg.input, outputs=prediction)"
   ]
  },
  {
   "cell_type": "code",
   "execution_count": 8,
   "metadata": {},
   "outputs": [
    {
     "name": "stdout",
     "output_type": "stream",
     "text": [
      "Model: \"model\"\n",
      "_________________________________________________________________\n",
      "Layer (type)                 Output Shape              Param #   \n",
      "=================================================================\n",
      "input_1 (InputLayer)         [(None, 224, 224, 3)]     0         \n",
      "_________________________________________________________________\n",
      "block1_conv1 (Conv2D)        (None, 224, 224, 64)      1792      \n",
      "_________________________________________________________________\n",
      "block1_conv2 (Conv2D)        (None, 224, 224, 64)      36928     \n",
      "_________________________________________________________________\n",
      "block1_pool (MaxPooling2D)   (None, 112, 112, 64)      0         \n",
      "_________________________________________________________________\n",
      "block2_conv1 (Conv2D)        (None, 112, 112, 128)     73856     \n",
      "_________________________________________________________________\n",
      "block2_conv2 (Conv2D)        (None, 112, 112, 128)     147584    \n",
      "_________________________________________________________________\n",
      "block2_pool (MaxPooling2D)   (None, 56, 56, 128)       0         \n",
      "_________________________________________________________________\n",
      "block3_conv1 (Conv2D)        (None, 56, 56, 256)       295168    \n",
      "_________________________________________________________________\n",
      "block3_conv2 (Conv2D)        (None, 56, 56, 256)       590080    \n",
      "_________________________________________________________________\n",
      "block3_conv3 (Conv2D)        (None, 56, 56, 256)       590080    \n",
      "_________________________________________________________________\n",
      "block3_pool (MaxPooling2D)   (None, 28, 28, 256)       0         \n",
      "_________________________________________________________________\n",
      "block4_conv1 (Conv2D)        (None, 28, 28, 512)       1180160   \n",
      "_________________________________________________________________\n",
      "block4_conv2 (Conv2D)        (None, 28, 28, 512)       2359808   \n",
      "_________________________________________________________________\n",
      "block4_conv3 (Conv2D)        (None, 28, 28, 512)       2359808   \n",
      "_________________________________________________________________\n",
      "block4_pool (MaxPooling2D)   (None, 14, 14, 512)       0         \n",
      "_________________________________________________________________\n",
      "block5_conv1 (Conv2D)        (None, 14, 14, 512)       2359808   \n",
      "_________________________________________________________________\n",
      "block5_conv2 (Conv2D)        (None, 14, 14, 512)       2359808   \n",
      "_________________________________________________________________\n",
      "block5_conv3 (Conv2D)        (None, 14, 14, 512)       2359808   \n",
      "_________________________________________________________________\n",
      "block5_pool (MaxPooling2D)   (None, 7, 7, 512)         0         \n",
      "_________________________________________________________________\n",
      "flatten (Flatten)            (None, 25088)             0         \n",
      "_________________________________________________________________\n",
      "dense (Dense)                (None, 2)                 50178     \n",
      "=================================================================\n",
      "Total params: 14,764,866\n",
      "Trainable params: 50,178\n",
      "Non-trainable params: 14,714,688\n",
      "_________________________________________________________________\n"
     ]
    }
   ],
   "source": [
    "model.summary()"
   ]
  },
  {
   "cell_type": "code",
   "execution_count": 9,
   "metadata": {},
   "outputs": [],
   "source": [
    "model.compile(\n",
    "  loss='categorical_crossentropy',\n",
    "  optimizer='adam',\n",
    "  metrics=['accuracy']\n",
    ")\n"
   ]
  },
  {
   "cell_type": "code",
   "execution_count": 10,
   "metadata": {},
   "outputs": [],
   "source": [
    "from keras.preprocessing.image import ImageDataGenerator\n",
    "\n",
    "train_datagen = ImageDataGenerator(rescale = 1./255,\n",
    "                                   shear_range = 0.2,\n",
    "                                   zoom_range = 0.2,\n",
    "                                   horizontal_flip = True)\n",
    "\n",
    "test_datagen = ImageDataGenerator(rescale = 1./255)"
   ]
  },
  {
   "cell_type": "code",
   "execution_count": 17,
   "metadata": {},
   "outputs": [
    {
     "name": "stdout",
     "output_type": "stream",
     "text": [
      "Found 416 images belonging to 2 classes.\n"
     ]
    }
   ],
   "source": [
    "train= train_datagen.flow_from_directory('maleria_cell_images/train',\n",
    "                                                 target_size = (224, 224),\n",
    "                                                 batch_size = 3,\n",
    "                                                 class_mode = 'categorical')"
   ]
  },
  {
   "cell_type": "code",
   "execution_count": 18,
   "metadata": {},
   "outputs": [
    {
     "name": "stdout",
     "output_type": "stream",
     "text": [
      "Found 134 images belonging to 2 classes.\n"
     ]
    }
   ],
   "source": [
    "test = test_datagen.flow_from_directory('maleria_cell_images/test',\n",
    "                                            target_size = (224, 224),\n",
    "                                            batch_size = 3,\n",
    "                                            class_mode = 'categorical')"
   ]
  },
  {
   "cell_type": "code",
   "execution_count": 19,
   "metadata": {},
   "outputs": [
    {
     "name": "stdout",
     "output_type": "stream",
     "text": [
      "Epoch 1/5\n",
      "139/139 [==============================] - 151s 1s/step - loss: 1.0447 - accuracy: 0.7115 - val_loss: 0.3416 - val_accuracy: 0.8657\n",
      "Epoch 2/5\n",
      "139/139 [==============================] - 148s 1s/step - loss: 0.6611 - accuracy: 0.7764 - val_loss: 0.4047 - val_accuracy: 0.8284\n",
      "Epoch 3/5\n",
      "139/139 [==============================] - 156s 1s/step - loss: 0.5080 - accuracy: 0.8149 - val_loss: 0.6484 - val_accuracy: 0.7463\n",
      "Epoch 4/5\n",
      "139/139 [==============================] - 161s 1s/step - loss: 0.3800 - accuracy: 0.8582 - val_loss: 0.9503 - val_accuracy: 0.6940\n",
      "Epoch 5/5\n",
      "139/139 [==============================] - 180s 1s/step - loss: 0.3935 - accuracy: 0.8582 - val_loss: 3.6634 - val_accuracy: 0.4403\n"
     ]
    }
   ],
   "source": [
    "r = model.fit_generator(\n",
    "  train,\n",
    "  validation_data=test,\n",
    "  epochs=5,\n",
    "  steps_per_epoch=len(train),\n",
    "  validation_steps=len(test)\n",
    ")"
   ]
  },
  {
   "cell_type": "code",
   "execution_count": null,
   "metadata": {},
   "outputs": [],
   "source": [
    "# plt.plot(r.history['loss'], label='train loss')\n",
    "# plt.plot(r.history['val_loss'], label='val loss')\n",
    "# plt.legend()\n",
    "# plt.show()\n",
    "# plt.savefig('LossVal_loss')"
   ]
  },
  {
   "cell_type": "code",
   "execution_count": 23,
   "metadata": {},
   "outputs": [],
   "source": [
    "import tensorflow as tf\n",
    "\n",
    "from keras.models import load_model\n",
    "\n",
    "model.save('maleria2.h5')"
   ]
  },
  {
   "cell_type": "code",
   "execution_count": null,
   "metadata": {},
   "outputs": [],
   "source": []
  },
  {
   "cell_type": "code",
   "execution_count": null,
   "metadata": {},
   "outputs": [],
   "source": []
  },
  {
   "cell_type": "code",
   "execution_count": 29,
   "metadata": {},
   "outputs": [],
   "source": [
    "# from keras.models import load_model\n",
    "# from keras.preprocessing import image\n",
    "# from keras.applications.vgg16 import preprocess_input\n",
    "# import numpy as np\n",
    "# model=load_model('pneumonia_model.h5')\n",
    "import glob\n",
    "path1='./maleria_cell_images/train/Parasite/C33P1thinF_IMG_20150619_114756a_cell_179.png'\n",
    "path2='./maleria_cell_images/train/Parasite/C33P1thinF_IMG_20150619_114756a_cell_180.png'\n",
    "path3='./maleria_cell_images/train/uninfected/C1_thinF_IMG_20150604_104722_cell_9.png'\n",
    "path4='./maleria_cell_images/train/uninfected/C1_thinF_IMG_20150604_104722_cell_73.png'\n",
    "uninfected=glob.glob(\"./maleria_cell_images/train/uninfected/*.png\")\n",
    "infected=glob.glob(\"./maleria_cell_images/train/Parasite/*.png\")"
   ]
  },
  {
   "cell_type": "code",
   "execution_count": 36,
   "metadata": {},
   "outputs": [
    {
     "name": "stdout",
     "output_type": "stream",
     "text": [
      "[[1. 0.]]\n",
      "[[1. 0.]]\n",
      "[[1. 0.]]\n",
      "[[1. 0.]]\n",
      "[[1.0000000e+00 3.0359001e-15]]\n",
      "[[1. 0.]]\n",
      "[[1. 0.]]\n",
      "[[1. 0.]]\n",
      "[[1. 0.]]\n",
      "[[9.9999988e-01 1.0978496e-07]]\n",
      "[[1. 0.]]\n",
      "[[1. 0.]]\n",
      "[[1. 0.]]\n",
      "[[1. 0.]]\n",
      "[[1. 0.]]\n",
      "[[1. 0.]]\n",
      "[[1. 0.]]\n",
      "[[1. 0.]]\n",
      "[[4.993479e-12 1.000000e+00]]\n",
      "[[1. 0.]]\n",
      "[[1. 0.]]\n",
      "[[1. 0.]]\n",
      "[[1. 0.]]\n",
      "[[1. 0.]]\n",
      "[[1. 0.]]\n",
      "[[1. 0.]]\n",
      "[[1. 0.]]\n",
      "[[1. 0.]]\n",
      "[[1. 0.]]\n",
      "[[1. 0.]]\n",
      "[[1. 0.]]\n",
      "[[1. 0.]]\n",
      "[[1. 0.]]\n",
      "[[1. 0.]]\n",
      "[[1. 0.]]\n",
      "[[9.0585925e-20 1.0000000e+00]]\n",
      "[[1.0000000e+00 1.2448436e-14]]\n",
      "[[1. 0.]]\n",
      "[[1.0000000e+00 3.7687583e-27]]\n",
      "[[1. 0.]]\n",
      "[[1. 0.]]\n",
      "[[1.000000e+00 1.300531e-28]]\n",
      "[[3.692047e-26 1.000000e+00]]\n",
      "[[1. 0.]]\n",
      "[[1. 0.]]\n",
      "[[1. 0.]]\n",
      "[[1. 0.]]\n",
      "[[1.6445433e-31 1.0000000e+00]]\n",
      "[[1. 0.]]\n",
      "[[1. 0.]]\n",
      "[[1. 0.]]\n",
      "[[1. 0.]]\n",
      "[[1. 0.]]\n",
      "[[1. 0.]]\n",
      "[[1. 0.]]\n",
      "[[1.0000000e+00 3.5103342e-10]]\n",
      "[[1. 0.]]\n",
      "[[1.0000000e+00 2.3300544e-27]]\n",
      "[[1. 0.]]\n",
      "[[1. 0.]]\n",
      "[[1. 0.]]\n",
      "[[1. 0.]]\n",
      "[[1. 0.]]\n",
      "[[1.000000e+00 1.848643e-31]]\n",
      "[[1. 0.]]\n",
      "[[1. 0.]]\n",
      "[[1. 0.]]\n",
      "[[3.7822034e-23 1.0000000e+00]]\n",
      "[[1. 0.]]\n",
      "[[1. 0.]]\n",
      "[[1. 0.]]\n",
      "[[1. 0.]]\n",
      "[[1. 0.]]\n",
      "[[1. 0.]]\n",
      "[[1. 0.]]\n",
      "[[1. 0.]]\n",
      "[[1. 0.]]\n",
      "[[1. 0.]]\n",
      "[[1. 0.]]\n",
      "[[1. 0.]]\n",
      "[[1.0000000e+00 1.4072646e-38]]\n",
      "[[1. 0.]]\n",
      "[[1. 0.]]\n",
      "[[1. 0.]]\n",
      "[[1. 0.]]\n",
      "[[1. 0.]]\n",
      "[[1. 0.]]\n",
      "[[1. 0.]]\n",
      "[[1. 0.]]\n",
      "[[1. 0.]]\n",
      "[[1. 0.]]\n",
      "[[1.0000000e+00 3.4432685e-27]]\n",
      "[[1. 0.]]\n",
      "[[1. 0.]]\n",
      "[[1. 0.]]\n",
      "[[1. 0.]]\n",
      "[[1. 0.]]\n",
      "[[1.000000e+00 6.135866e-16]]\n",
      "[[1. 0.]]\n",
      "[[1. 0.]]\n",
      "[[1.00000e+00 4.89921e-21]]\n",
      "[[1. 0.]]\n",
      "[[1. 0.]]\n",
      "[[0.00168982 0.9983102 ]]\n",
      "[[1. 0.]]\n",
      "[[4.544615e-22 1.000000e+00]]\n",
      "[[0.5244732  0.47552684]]\n",
      "[[1. 0.]]\n",
      "[[0. 1.]]\n",
      "[[1. 0.]]\n",
      "[[6.205093e-07 9.999994e-01]]\n",
      "[[1. 0.]]\n",
      "[[1. 0.]]\n",
      "[[1. 0.]]\n",
      "[[1. 0.]]\n",
      "[[1. 0.]]\n",
      "[[1. 0.]]\n",
      "[[1. 0.]]\n",
      "[[1. 0.]]\n",
      "[[1. 0.]]\n",
      "[[1. 0.]]\n",
      "[[1. 0.]]\n",
      "[[1. 0.]]\n",
      "[[1. 0.]]\n",
      "[[1. 0.]]\n",
      "[[1. 0.]]\n",
      "[[1. 0.]]\n",
      "[[1. 0.]]\n",
      "[[1. 0.]]\n",
      "[[1. 0.]]\n",
      "[[1. 0.]]\n",
      "[[1. 0.]]\n",
      "[[1. 0.]]\n",
      "[[1. 0.]]\n",
      "[[1. 0.]]\n",
      "[[1. 0.]]\n",
      "[[1. 0.]]\n",
      "[[1. 0.]]\n",
      "[[1. 0.]]\n",
      "[[1. 0.]]\n",
      "[[1. 0.]]\n",
      "[[1. 0.]]\n",
      "[[1.0000000e+00 2.6245481e-11]]\n",
      "[[1.0000000e+00 1.5604556e-28]]\n",
      "[[1.0000e+00 5.8278e-27]]\n",
      "[[1. 0.]]\n",
      "[[1. 0.]]\n",
      "[[1. 0.]]\n",
      "[[2.4372477e-22 1.0000000e+00]]\n",
      "[[1. 0.]]\n",
      "[[0. 1.]]\n",
      "[[1.0000000e+00 1.0216937e-22]]\n",
      "[[1. 0.]]\n",
      "[[1. 0.]]\n",
      "[[1. 0.]]\n",
      "[[1. 0.]]\n",
      "[[1. 0.]]\n",
      "[[1. 0.]]\n",
      "[[1. 0.]]\n",
      "[[1. 0.]]\n",
      "[[1. 0.]]\n",
      "[[1. 0.]]\n",
      "[[9.9999213e-01 7.8588500e-06]]\n",
      "[[1.1914262e-09 1.0000000e+00]]\n",
      "[[1.000000e+00 9.489185e-11]]\n",
      "[[1. 0.]]\n",
      "[[9.9998450e-01 1.5534399e-05]]\n",
      "[[1. 0.]]\n",
      "[[1.000000e+00 7.374852e-18]]\n",
      "[[1. 0.]]\n",
      "[[1. 0.]]\n",
      "[[2.0931696e-12 1.0000000e+00]]\n",
      "[[1. 0.]]\n",
      "[[9.9999988e-01 1.2562313e-07]]\n",
      "[[1. 0.]]\n",
      "[[0. 1.]]\n",
      "[[1.0000000e+00 4.6039482e-27]]\n",
      "[[1. 0.]]\n",
      "[[0. 1.]]\n",
      "[[1. 0.]]\n",
      "[[1. 0.]]\n",
      "[[1. 0.]]\n",
      "[[0. 1.]]\n",
      "[[1.3902566e-27 1.0000000e+00]]\n",
      "[[1. 0.]]\n",
      "[[1.000000e+00 6.300065e-17]]\n",
      "[[1. 0.]]\n",
      "[[1. 0.]]\n",
      "[[1. 0.]]\n",
      "[[1. 0.]]\n",
      "[[1. 0.]]\n",
      "[[1. 0.]]\n",
      "[[9.999460e-01 5.404128e-05]]\n",
      "[[1. 0.]]\n",
      "[[1. 0.]]\n",
      "[[4.799813e-11 1.000000e+00]]\n",
      "[[1. 0.]]\n",
      "[[1.000000e+00 1.240437e-11]]\n",
      "[[1. 0.]]\n",
      "[[1. 0.]]\n",
      "[[1. 0.]]\n",
      "[[1. 0.]]\n",
      "[[1. 0.]]\n",
      "[[1.000000e+00 6.934699e-32]]\n",
      "[[1.0000000e+00 1.0097231e-26]]\n",
      "[[1. 0.]]\n",
      "[[1. 0.]]\n",
      "[[1. 0.]]\n",
      "[[1. 0.]]\n",
      "[[1. 0.]]\n",
      "[[1. 0.]]\n",
      "[[1. 0.]]\n",
      "[[1. 0.]]\n",
      "[[1.0000000e+00 1.2467005e-31]]\n",
      "[[1. 0.]]\n",
      "[[1. 0.]]\n",
      "[[1. 0.]]\n",
      "[[1.0000000e+00 1.7559198e-36]]\n",
      "[[1. 0.]]\n",
      "[[1. 0.]]\n"
     ]
    }
   ],
   "source": [
    "for i in infected:\n",
    "    img=image.load_img(i,target_size=(224,224))\n",
    "    x=image.img_to_array(img)\n",
    "    x=np.expand_dims(x,axis=0)\n",
    "    img_data=preprocess_input(x)\n",
    "    classes=model.predict(img_data)\n",
    "    print(classes)"
   ]
  },
  {
   "cell_type": "code",
   "execution_count": 35,
   "metadata": {},
   "outputs": [
    {
     "data": {
      "text/plain": [
       "0"
      ]
     },
     "execution_count": 35,
     "metadata": {},
     "output_type": "execute_result"
    }
   ],
   "source": [
    "int(classes[0][0]) is uninfected"
   ]
  },
  {
   "cell_type": "code",
   "execution_count": 39,
   "metadata": {},
   "outputs": [
    {
     "data": {
      "text/plain": [
       "1.0"
      ]
     },
     "execution_count": 39,
     "metadata": {},
     "output_type": "execute_result"
    }
   ],
   "source": [
    "classes[0][0]"
   ]
  },
  {
   "cell_type": "code",
   "execution_count": 24,
   "metadata": {},
   "outputs": [
    {
     "ename": "NameError",
     "evalue": "name 'uninfected' is not defined",
     "output_type": "error",
     "traceback": [
      "\u001b[1;31m---------------------------------------------------------------------------\u001b[0m",
      "\u001b[1;31mNameError\u001b[0m                                 Traceback (most recent call last)",
      "\u001b[1;32m<ipython-input-24-1ece6fd05114>\u001b[0m in \u001b[0;36m<module>\u001b[1;34m\u001b[0m\n\u001b[1;32m----> 1\u001b[1;33m \u001b[0muninfected\u001b[0m\u001b[1;33m\u001b[0m\u001b[0m\n\u001b[0m",
      "\u001b[1;31mNameError\u001b[0m: name 'uninfected' is not defined"
     ]
    }
   ],
   "source": [
    "uninfected"
   ]
  },
  {
   "cell_type": "code",
   "execution_count": 40,
   "metadata": {},
   "outputs": [
    {
     "data": {
      "text/plain": [
       "array([0], dtype=int64)"
      ]
     },
     "execution_count": 40,
     "metadata": {},
     "output_type": "execute_result"
    }
   ],
   "source": [
    "np.argmax(classes, axis=1)"
   ]
  },
  {
   "cell_type": "code",
   "execution_count": null,
   "metadata": {},
   "outputs": [],
   "source": []
  }
 ],
 "metadata": {
  "kernelspec": {
   "display_name": "Python 3",
   "language": "python",
   "name": "python3"
  },
  "language_info": {
   "codemirror_mode": {
    "name": "ipython",
    "version": 3
   },
   "file_extension": ".py",
   "mimetype": "text/x-python",
   "name": "python",
   "nbconvert_exporter": "python",
   "pygments_lexer": "ipython3",
   "version": "3.7.0"
  }
 },
 "nbformat": 4,
 "nbformat_minor": 2
}
